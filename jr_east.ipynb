{
  "nbformat": 4,
  "nbformat_minor": 0,
  "metadata": {
    "colab": {
      "name": "jr_east.ipynb",
      "private_outputs": true,
      "provenance": [],
      "toc_visible": true,
      "mount_file_id": "1Znty6sg2ANIUJjt-YYSC3AQ5TxFEJkJE",
      "authorship_tag": "ABX9TyMTvfDHnFASlla2C1GUCbT8",
      "include_colab_link": true
    },
    "kernelspec": {
      "name": "python3",
      "display_name": "Python 3"
    }
  },
  "cells": [
    {
      "cell_type": "markdown",
      "metadata": {
        "id": "view-in-github",
        "colab_type": "text"
      },
      "source": [
        "<a href=\"https://colab.research.google.com/github/ta9ya/Curriculum-Vitae-template/blob/master/jr_east.ipynb\" target=\"_parent\"><img src=\"https://colab.research.google.com/assets/colab-badge.svg\" alt=\"Open In Colab\"/></a>"
      ]
    },
    {
      "cell_type": "code",
      "metadata": {
        "id": "XMtZNo0Vm7AF"
      },
      "source": [
        "# import torch\n",
        "import numpy as np\n",
        "import pandas as pd\n",
        "from matplotlib import pyplot as plt\n",
        "import lightgbm as lgbm\n",
        "\n",
        "%matplotlib inline"
      ],
      "execution_count": null,
      "outputs": []
    },
    {
      "cell_type": "code",
      "metadata": {
        "id": "j6ZE6JAcqBcg"
      },
      "source": [
        "# torch.__version__"
      ],
      "execution_count": null,
      "outputs": []
    },
    {
      "cell_type": "code",
      "metadata": {
        "id": "wT9JKXqHqOwZ"
      },
      "source": [
        "train_df = pd.read_csv('drive/MyDrive/jr_east/data/train.csv')\n",
        "test_df = pd.read_csv('drive/MyDrive/jr_east/data/test.csv')\n",
        "info_df = pd.read_csv('drive/MyDrive/jr_east/data/info.csv')\n",
        "network_df = pd.read_csv('drive/MyDrive/jr_east/data/network.csv')\n",
        "submission = pd.read_csv('drive/MyDrive/jr_east/data/sample_submit.csv', header=None)"
      ],
      "execution_count": null,
      "outputs": []
    },
    {
      "cell_type": "code",
      "metadata": {
        "id": "T9NDGzBOy249"
      },
      "source": [
        "train_df.head()"
      ],
      "execution_count": null,
      "outputs": []
    },
    {
      "cell_type": "markdown",
      "metadata": {
        "id": "weUP-vxn8CQI"
      },
      "source": [
        "# delayTime par planArrival"
      ]
    },
    {
      "cell_type": "markdown",
      "metadata": {
        "id": "jsH4nBzgZEkq"
      },
      "source": [
        "## convert planArrival to minute"
      ]
    },
    {
      "cell_type": "code",
      "metadata": {
        "id": "x16r_vndy5sV"
      },
      "source": [
        "class Dataset:\n",
        "  def __init__(self, df):\n",
        "    self.df = df\n",
        "    self.__preset()\n",
        "  \n",
        "  def __preset(self):\n",
        "    self.df.date = pd.to_datetime(self.df.date, format='%Y%m%d')\n",
        "    self.df['arrival_minute'] = self.df.planArrival.apply(self.convert2minute)\n",
        "    self.df['dayofweek'] = self.df.date.apply(lambda x: x.dayofweek)\n",
        "    self.df.lineName = self.df.lineName.astype('category')\n",
        "    self.df.stopStation = self.df.stopStation.astype('category')\n",
        "  \n",
        "  def convert2minute(self, plan_arrival):\n",
        "    if plan_arrival.find(':') < 0:\n",
        "      return None\n",
        "\n",
        "    h, m = map(int, plan_arrival.split(':'))\n",
        "    return m + h * 60\n",
        "\n",
        "  def get_input_data(self):\n",
        "    input_columns = ['lineName', 'directionCode', 'arrival_minute', 'dayofweek', 'stopStation']\n",
        "    return self.df[input_columns]\n",
        "\n",
        "  def get_output_data(self):\n",
        "    output_columns = ['delayTime']\n",
        "    return self.df[output_columns]\n"
      ],
      "execution_count": null,
      "outputs": []
    },
    {
      "cell_type": "code",
      "metadata": {
        "id": "WfHur_KSaY_X"
      },
      "source": [
        "train_df['arrival_minute'] = train_df.planArrival.apply(convert2minute)"
      ],
      "execution_count": null,
      "outputs": []
    },
    {
      "cell_type": "code",
      "metadata": {
        "id": "INenjzjpavCC"
      },
      "source": [
        "train_dataset = Dataset(train_df)"
      ],
      "execution_count": null,
      "outputs": []
    },
    {
      "cell_type": "markdown",
      "metadata": {
        "id": "ZK6JaMVqbGQg"
      },
      "source": [
        "## delayTime by arrival munite of Line A"
      ]
    },
    {
      "cell_type": "code",
      "metadata": {
        "id": "DZ1-ZVFmHHQ_"
      },
      "source": [
        "def delay_by_time(lineName):\n",
        "  df = train_df[train_df.lineName==lineName]\n",
        "  for key, grp in df.groupby('trainNo'):\n",
        "    plt.plot(grp['arrival_minute'], grp['delayTime'], label=key)"
      ],
      "execution_count": null,
      "outputs": []
    },
    {
      "cell_type": "code",
      "metadata": {
        "id": "VmCRhSEOb4LQ"
      },
      "source": [
        "delay_by_time('A')"
      ],
      "execution_count": null,
      "outputs": []
    },
    {
      "cell_type": "code",
      "metadata": {
        "id": "m30beT_Odrho"
      },
      "source": [
        "delay_by_time('B')"
      ],
      "execution_count": null,
      "outputs": []
    },
    {
      "cell_type": "code",
      "metadata": {
        "id": "VRxzBk5Zdwda"
      },
      "source": [
        "delay_by_time('C')"
      ],
      "execution_count": null,
      "outputs": []
    },
    {
      "cell_type": "code",
      "metadata": {
        "id": "WcOBqNwidxyu"
      },
      "source": [
        "delay_by_time('D')"
      ],
      "execution_count": null,
      "outputs": []
    },
    {
      "cell_type": "code",
      "metadata": {
        "id": "PJTeJThidzSq"
      },
      "source": [
        "df = train_df[train_df.lineName=='A']\n",
        "df[(600 < df.arrival_minute) & (df.arrival_minute < 1000)]"
      ],
      "execution_count": null,
      "outputs": []
    },
    {
      "cell_type": "markdown",
      "metadata": {
        "id": "O6VbYVgMqIuh"
      },
      "source": [
        "## add weeekday data"
      ]
    },
    {
      "cell_type": "markdown",
      "metadata": {
        "id": "gcwSrXhAtj7E"
      },
      "source": [
        "## create model"
      ]
    },
    {
      "cell_type": "code",
      "metadata": {
        "id": "FfOb5Oo5DLBN"
      },
      "source": [
        "train_dataset = Dataset(train_df)"
      ],
      "execution_count": null,
      "outputs": []
    },
    {
      "cell_type": "code",
      "metadata": {
        "id": "7bjR8TEl0ClC"
      },
      "source": [
        "test_dataset = Dataset(test_df)"
      ],
      "execution_count": null,
      "outputs": []
    },
    {
      "cell_type": "code",
      "metadata": {
        "id": "Ol8rUbzO0HGU"
      },
      "source": [
        "lgb_train = lgbm.Dataset(\n",
        "    train_dataset.get_input_data(),\n",
        "    train_dataset.get_output_data()\n",
        ")"
      ],
      "execution_count": null,
      "outputs": []
    },
    {
      "cell_type": "code",
      "metadata": {
        "id": "FgBETGc01SnQ"
      },
      "source": [
        "lgb_params = {\n",
        "    'objective': 'regression',\n",
        "    'metric': 'mae'\n",
        "}"
      ],
      "execution_count": null,
      "outputs": []
    },
    {
      "cell_type": "code",
      "metadata": {
        "id": "BOguGd8r1cZB"
      },
      "source": [
        "train_dataset.get_input_data()"
      ],
      "execution_count": null,
      "outputs": []
    },
    {
      "cell_type": "code",
      "metadata": {
        "id": "MA8mnqZl1U22"
      },
      "source": [
        "lgb = lgbm.train(lgb_params, lgb_train)"
      ],
      "execution_count": null,
      "outputs": []
    },
    {
      "cell_type": "code",
      "metadata": {
        "id": "Bpg7dICP1W8Z"
      },
      "source": [
        "delay = lgb.predict(test_dataset.get_input_data())"
      ],
      "execution_count": null,
      "outputs": []
    },
    {
      "cell_type": "code",
      "metadata": {
        "id": "neNM7mV42VkU"
      },
      "source": [
        "test_df['predict'] = delay"
      ],
      "execution_count": null,
      "outputs": []
    },
    {
      "cell_type": "code",
      "metadata": {
        "id": "xACMHoas249X"
      },
      "source": [
        "test_df[test_df.delayTime.isnull()][['id', 'predict']].to_csv('submission.csv', header=False, index=False)"
      ],
      "execution_count": null,
      "outputs": []
    },
    {
      "cell_type": "code",
      "metadata": {
        "id": "XnAjz-uc2_bU"
      },
      "source": [
        ""
      ],
      "execution_count": null,
      "outputs": []
    }
  ]
}